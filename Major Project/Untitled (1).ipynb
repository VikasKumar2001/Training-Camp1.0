{
  "nbformat": 4,
  "nbformat_minor": 0,
  "metadata": {
    "colab": {
      "provenance": []
    },
    "kernelspec": {
      "name": "python3",
      "display_name": "Python 3"
    },
    "language_info": {
      "name": "python"
    }
  },
  "cells": [
    {
      "cell_type": "code",
      "execution_count": 19,
      "metadata": {
        "id": "U0sPmlyTTAM-"
      },
      "outputs": [],
      "source": [
        "import numpy as np\n",
        "import pandas as pd\n",
        "import matplotlib.pyplot as plt\n",
        "import seaborn as sns\n"
      ]
    },
    {
      "cell_type": "code",
      "source": [
        "vdgame = pd.read_csv(\"/content/videogames.csv\")\n",
        "print(vdgame.head())"
      ],
      "metadata": {
        "colab": {
          "base_uri": "https://localhost:8080/"
        },
        "id": "zm5uQE6tTCEj",
        "outputId": "4baf1b8a-92dd-47b5-9142-d162445a407b"
      },
      "execution_count": 20,
      "outputs": [
        {
          "output_type": "stream",
          "name": "stdout",
          "text": [
            "                       Name Platform  Year_of_Release         Genre Publisher  \\\n",
            "0                Wii Sports      Wii           2006.0        Sports  Nintendo   \n",
            "1         Super Mario Bros.      NES           1985.0      Platform  Nintendo   \n",
            "2            Mario Kart Wii      Wii           2008.0        Racing  Nintendo   \n",
            "3         Wii Sports Resort      Wii           2009.0        Sports  Nintendo   \n",
            "4  Pokemon Red/Pokemon Blue       GB           1996.0  Role-Playing  Nintendo   \n",
            "\n",
            "   NA_Sales  EU_Sales  JP_Sales  Other_Sales  Global_Sales  Critic_Score  \\\n",
            "0     41.36     28.96      3.77         8.45         82.53          76.0   \n",
            "1     29.08      3.58      6.81         0.77         40.24           NaN   \n",
            "2     15.68     12.76      3.79         3.29         35.52          82.0   \n",
            "3     15.61     10.93      3.28         2.95         32.77          80.0   \n",
            "4     11.27      8.89     10.22         1.00         31.37           NaN   \n",
            "\n",
            "   Critic_Count  User_Score  User_Count Developer Rating  \n",
            "0          51.0         8.0       322.0  Nintendo      E  \n",
            "1           NaN         NaN         NaN       NaN    NaN  \n",
            "2          73.0         8.3       709.0  Nintendo      E  \n",
            "3          73.0         8.0       192.0  Nintendo      E  \n",
            "4           NaN         NaN         NaN       NaN    NaN  \n"
          ]
        }
      ]
    },
    {
      "cell_type": "markdown",
      "source": [
        "**Null values in VDgame**"
      ],
      "metadata": {
        "id": "3pOfpRfgUtMn"
      }
    },
    {
      "cell_type": "code",
      "source": [
        "print(vdgame.isnull().sum())"
      ],
      "metadata": {
        "colab": {
          "base_uri": "https://localhost:8080/"
        },
        "id": "-fBc8cX7UHf1",
        "outputId": "f8125dce-7e49-4823-c279-da4dab5265e2"
      },
      "execution_count": 21,
      "outputs": [
        {
          "output_type": "stream",
          "name": "stdout",
          "text": [
            "Name                  2\n",
            "Platform              0\n",
            "Year_of_Release     269\n",
            "Genre                 2\n",
            "Publisher            54\n",
            "NA_Sales              0\n",
            "EU_Sales              0\n",
            "JP_Sales              0\n",
            "Other_Sales           0\n",
            "Global_Sales          0\n",
            "Critic_Score       8582\n",
            "Critic_Count       8582\n",
            "User_Score         9129\n",
            "User_Count         9129\n",
            "Developer          6623\n",
            "Rating             6769\n",
            "dtype: int64\n"
          ]
        }
      ]
    },
    {
      "cell_type": "markdown",
      "source": [
        "**Lets removing the null values**"
      ],
      "metadata": {
        "id": "Cdd3RsP-VGaH"
      }
    },
    {
      "cell_type": "code",
      "source": [
        "vdgame= vdgame.dropna()"
      ],
      "metadata": {
        "id": "vCFLIIj9VAUQ"
      },
      "execution_count": 22,
      "outputs": []
    },
    {
      "cell_type": "markdown",
      "source": [
        "**Lets look top 10 best-selling game**"
      ],
      "metadata": {
        "id": "Nfz5oOTzVuPv"
      }
    },
    {
      "cell_type": "code",
      "source": [
        "import matplotlib as mpl\n",
        "game = vdgame.groupby(\"Genre\")[\"Global_Sales\"].count().head(10)\n",
        "custom_colors = mpl.colors.Normalize(vmin=min(game), vmax=max(game))\n",
        "colours = [mpl.cm.PuBu(custom_colors(i)) for i in game]\n",
        "plt.figure(figsize=(7,7))\n",
        "plt.pie(game, labels=game.index, colors=colours)\n",
        "central_circle = plt.Circle((0, 0), 0.5, color='white')\n",
        "fig = plt.gcf()\n",
        "fig.gca().add_artist(central_circle)\n",
        "plt.rc('font', size=12)\n",
        "plt.title(\"Top 10 Categories of Games Sold\", fontsize=20)\n",
        "plt.show()"
      ],
      "metadata": {
        "colab": {
          "base_uri": "https://localhost:8080/",
          "height": 432
        },
        "id": "COiVqxvlVbhu",
        "outputId": "6888ff03-0993-4a53-b5f0-12932f94240b"
      },
      "execution_count": 27,
      "outputs": [
        {
          "output_type": "display_data",
          "data": {
            "text/plain": [
              "<Figure size 504x504 with 1 Axes>"
            ],
            "image/png": "[encoded data removed]"
          },
          "metadata": {}
        }
      ]
    },
    {
      "cell_type": "code",
      "source": [
        "print(vdgame.corr())\n"
      ],
      "metadata": {
        "colab": {
          "base_uri": "https://localhost:8080/"
        },
        "id": "AZWc_bUEWgGD",
        "outputId": "f2068a3a-97e3-4643-fe5f-ba0448d8a028"
      },
      "execution_count": 28,
      "outputs": [
        {
          "output_type": "stream",
          "name": "stdout",
          "text": [
            "                 Year_of_Release  NA_Sales  EU_Sales  JP_Sales  Other_Sales  \\\n",
            "Year_of_Release         1.000000 -0.016239  0.041346 -0.038443     0.042315   \n",
            "NA_Sales               -0.016239  1.000000  0.841808  0.468607     0.726757   \n",
            "EU_Sales                0.041346  0.841808  1.000000  0.519929     0.716330   \n",
            "JP_Sales               -0.038443  0.468607  0.519929  1.000000     0.394823   \n",
            "Other_Sales             0.042315  0.726757  0.716330  0.394823     1.000000   \n",
            "Global_Sales            0.006661  0.955793  0.939313  0.613546     0.804028   \n",
            "Critic_Score           -0.007661  0.233580  0.213102  0.147314     0.191509   \n",
            "Critic_Count            0.203336  0.283917  0.265740  0.168299     0.239513   \n",
            "User_Score             -0.253914  0.085796  0.055915  0.127521     0.057083   \n",
            "User_Count              0.199348  0.246208  0.283504  0.072773     0.240085   \n",
            "\n",
            "                 Global_Sales  Critic_Score  Critic_Count  User_Score  \\\n",
            "Year_of_Release      0.006661     -0.007661      0.203336   -0.253914   \n",
            "NA_Sales             0.955793      0.233580      0.283917    0.085796   \n",
            "EU_Sales             0.939313      0.213102      0.265740    0.055915   \n",
            "JP_Sales             0.613546      0.147314      0.168299    0.127521   \n",
            "Other_Sales          0.804028      0.191509      0.239513    0.057083   \n",
            "Global_Sales         1.000000      0.237556      0.290397    0.088349   \n",
            "Critic_Score         0.237556      1.000000      0.396478    0.580318   \n",
            "Critic_Count         0.290397      0.396478      1.000000    0.195087   \n",
            "User_Score           0.088349      0.580318      0.195087    1.000000   \n",
            "User_Count           0.264151      0.265639      0.365603    0.017546   \n",
            "\n",
            "                 User_Count  \n",
            "Year_of_Release    0.199348  \n",
            "NA_Sales           0.246208  \n",
            "EU_Sales           0.283504  \n",
            "JP_Sales           0.072773  \n",
            "Other_Sales        0.240085  \n",
            "Global_Sales       0.264151  \n",
            "Critic_Score       0.265639  \n",
            "Critic_Count       0.365603  \n",
            "User_Score         0.017546  \n",
            "User_Count         1.000000  \n"
          ]
        }
      ]
    },
    {
      "cell_type": "code",
      "source": [
        "sns.heatmap(vdgame.corr(), cmap=\"winter_r\")\n",
        "plt.show()"
      ],
      "metadata": {
        "colab": {
          "base_uri": "https://localhost:8080/",
          "height": 357
        },
        "id": "KYhjce7uZR14",
        "outputId": "9f029598-1d1c-4392-b902-57b54f9a566a"
      },
      "execution_count": 29,
      "outputs": [
        {
          "output_type": "display_data",
          "data": {
            "text/plain": [
              "<Figure size 432x288 with 2 Axes>"
            ],
            "image/png": "[encoded data removed]"
          },
          "metadata": {
            "needs_background": "light"
          }
        }
      ]
    },
    {
      "cell_type": "markdown",
      "source": [
        "**Video Game Sales Prediction**"
      ],
      "metadata": {
        "id": "AVxCmYz-Z4CR"
      }
    },
    {
      "cell_type": "code",
      "source": [
        "X = vdgame[[\"NA_Sales\", \"EU_Sales\", \"JP_Sales\", \"Other_Sales\"]]\n",
        "y = vdgame[\"Global_Sales\"]"
      ],
      "metadata": {
        "id": "Owfv9gkoZb1A"
      },
      "execution_count": 30,
      "outputs": []
    },
    {
      "cell_type": "code",
      "source": [
        "from sklearn.model_selection import train_test_split\n",
        "xtrain, xtest, ytrain, ytest = train_test_split(X, y, test_size=0.2, random_state=42)\n"
      ],
      "metadata": {
        "id": "aCGYHdBkaP4g"
      },
      "execution_count": 31,
      "outputs": []
    },
    {
      "cell_type": "code",
      "source": [
        "from sklearn.linear_model import LinearRegression\n",
        "model = LinearRegression() \n",
        "model.fit(xtrain, ytrain)\n",
        "predictions = model.predict(xtest)"
      ],
      "metadata": {
        "id": "eM5AfoPhazFZ"
      },
      "execution_count": 32,
      "outputs": []
    },
    {
      "cell_type": "code",
      "source": [
        "from sklearn.linear_model import LinearRegression\n",
        "from sklearn.metrics import accuracy_score"
      ],
      "metadata": {
        "id": "6oDj8Wl4h7px"
      },
      "execution_count": 33,
      "outputs": []
    },
    {
      "cell_type": "code",
      "source": [
        "predictions"
      ],
      "metadata": {
        "colab": {
          "base_uri": "https://localhost:8080/"
        },
        "id": "ZqnaO3MGcRlp",
        "outputId": "5f78dcc7-dc79-4a90-df82-b0ea2f32b983"
      },
      "execution_count": 36,
      "outputs": [
        {
          "output_type": "execute_result",
          "data": {
            "text/plain": [
              "array([6.02947586, 0.44020146, 0.2302397 , ..., 0.22019897, 0.04024748,\n",
              "       0.96017088])"
            ]
          },
          "metadata": {},
          "execution_count": 36
        }
      ]
    },
    {
      "cell_type": "code",
      "source": [
        "accuracy_score"
      ],
      "metadata": {
        "colab": {
          "base_uri": "https://localhost:8080/"
        },
        "id": "sETndAcGb_bO",
        "outputId": "4f9e745c-1a9d-43d4-edda-4d049a43892e"
      },
      "execution_count": 37,
      "outputs": [
        {
          "output_type": "execute_result",
          "data": {
            "text/plain": [
              "<function sklearn.metrics._classification.accuracy_score(y_true, y_pred, *, normalize=True, sample_weight=None)>"
            ]
          },
          "metadata": {},
          "execution_count": 37
        }
      ]
    },
    {
      "cell_type": "code",
      "source": [
        "test_data_accuracy=accuracy_score(np.round(predictions),np.round(ytest))\n"
      ],
      "metadata": {
        "id": "6L69VYX2cEE2"
      },
      "execution_count": 40,
      "outputs": []
    },
    {
      "cell_type": "code",
      "source": [
        "print(\"Accuracy:\",test_data_accuracy)"
      ],
      "metadata": {
        "colab": {
          "base_uri": "https://localhost:8080/"
        },
        "id": "izflz_M9dTQ5",
        "outputId": "9f07fbc8-cca1-440a-c0e8-a68ecc650653"
      },
      "execution_count": 41,
      "outputs": [
        {
          "output_type": "stream",
          "name": "stdout",
          "text": [
            "Accuracy: 0.9926739926739927\n"
          ]
        }
      ]
    },
    {
      "cell_type": "code",
      "source": [],
      "metadata": {
        "id": "3-N0DTADdh2n"
      },
      "execution_count": null,
      "outputs": []
    }
  ]
}